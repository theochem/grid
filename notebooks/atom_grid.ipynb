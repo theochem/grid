{
 "cells": [
  {
   "cell_type": "markdown",
   "metadata": {},
   "source": [
    "[![Open In Colab](https://colab.research.google.com/assets/colab-badge.svg)](https://colab.research.google.com/github/theochem/grid/blob/master/examples/Atom_Grid.ipynb)"
   ]
  },
  {
   "cell_type": "markdown",
   "metadata": {
    "collapsed": false
   },
   "source": [
    "# Atom Grids\n",
    "\n",
    "[AtomGrid](https://grid.qcdevs.org/pyapi/grid.atomgrid.html#grid.atomgrid.AtomGrid) constructs an atomic grid by combining a radial and angular components for evaluation, integration, interpolation, and differentiation in three-dimensional (3D) space. In quantum chemistry, this is typically used for computations of atomic properties. However, this is a general purpose grid that can be used for any function in 3D space.\n",
    "\n",
    "This notebook showcases various functionalities of [AtomGrid](https://grid.qcdevs.org/pyapi/grid.atomgrid.html#grid.atomgrid.AtomGrid). For computing properties on the grid, we use $\\textbf{He}$ in the triplet state ($1s^1 2s^1$) as an example. The corresponding wavefunction is obtained from formatted checkpoint file `\"doc/notebooks/He_t.fchk\"`. The [qc-iodata](https://github.com/theochem/iodata) package is used for parsing the wavefuction data from the fchk file, and [qc-gbasis](https://github.com/theochem/gbasis) package is used for analytical evaluation of various properties in the grid.\n"
   ]
  },
  {
   "cell_type": "code",
   "execution_count": null,
   "metadata": {},
   "outputs": [],
   "source": [
    "# # Install packages in Google Colab\n",
    "# ! pip install qc-iodata\n",
    "# ! pip install qc-grid\n",
    "# ! pip install qc-gbasis\n",
    "\n",
    "# # Download the example files\n",
    "# from urllib.request import urlretrieve\n",
    "# urlretrieve(\"https://raw.githubusercontent.com/theochem/grid/refs/heads/master/examples/He_t.fchk\",\"He_t.fchk\")"
   ]
  },
  {
   "cell_type": "code",
   "execution_count": 8,
   "metadata": {},
   "outputs": [
    {
     "name": "stdout",
     "output_type": "stream",
     "text": [
      "Atomic Coordinates: [[0. 0. 0.]]\n",
      "Atomic numbers    : [2]\n",
      "Alpha MO occupations: [1. 1.]\n",
      "Beta MO occupations : [0. 0.]\n"
     ]
    }
   ],
   "source": [
    "from iodata import load_one\n",
    "\n",
    "# Get the atomic coordinates array to use as the center of the grid\n",
    "mol = load_one(\"He_t.fchk\")\n",
    "\n",
    "center = mol.atcoords.flatten()\n",
    "print(f\"Atomic Coordinates: {mol.atcoords}\")\n",
    "print(f\"Atomic numbers    : {mol.atnums}\")\n",
    "print(f\"Alpha MO occupations: {mol.mo.occsa}\")\n",
    "print(f\"Beta MO occupations : {mol.mo.occsb}\")"
   ]
  },
  {
   "cell_type": "markdown",
   "metadata": {},
   "source": [
    "## Construct Atomic Grid\n",
    "\n",
    "There are multiple ways to construct an atomic grid, for a complete description see the [Atomic_Grid_Construction.ipynb](.https://grid.qcdevs.org/notebooks/notebooks/atom_grid_construction.html).\n",
    "\n",
    "Here we construct an atomic grid from a radial grid instance and the degrees of the angular grid centered at the position of $\\textbf{He}$ nucleus. The radial grid is constructed by specifying the number of radial grid points. For more details on the radial and angular grids see [One_dimensional_grids.ipynb](https://grid.qcdevs.org/notebooks/one_dimensional_grids.html) and [Angular_Grid.ipynb](https://grid.qcdevs.org/notebooks/angular_grid.html).\n"
   ]
  },
  {
   "cell_type": "code",
   "execution_count": 9,
   "metadata": {},
   "outputs": [
    {
     "name": "stdout",
     "output_type": "stream",
     "text": [
      "Radial grid size : 150\n",
      "Radial grid r_min: 0.00010\n",
      "Radial grid r_max: 23498.50372\n",
      "\n",
      "AtomGrid size          : 29100\n",
      "AtomGrid points shape  : (29100, 3)\n",
      "AtomGrid weights shape : (29100,)\n",
      "AtomGrid radial size   : 150\n",
      "AtomGrid angular degree: [23, 23, 23, 23, 23, 23, 23, 23, 23, 23, 23, 23, 23, 23, 23, 23, 23, 23, 23, 23, 23, 23, 23, 23, 23, 23, 23, 23, 23, 23, 23, 23, 23, 23, 23, 23, 23, 23, 23, 23, 23, 23, 23, 23, 23, 23, 23, 23, 23, 23, 23, 23, 23, 23, 23, 23, 23, 23, 23, 23, 23, 23, 23, 23, 23, 23, 23, 23, 23, 23, 23, 23, 23, 23, 23, 23, 23, 23, 23, 23, 23, 23, 23, 23, 23, 23, 23, 23, 23, 23, 23, 23, 23, 23, 23, 23, 23, 23, 23, 23, 23, 23, 23, 23, 23, 23, 23, 23, 23, 23, 23, 23, 23, 23, 23, 23, 23, 23, 23, 23, 23, 23, 23, 23, 23, 23, 23, 23, 23, 23, 23, 23, 23, 23, 23, 23, 23, 23, 23, 23, 23, 23, 23, 23, 23, 23, 23, 23, 23, 23]\n",
      "AtomGrid center        : [0. 0. 0.]\n"
     ]
    }
   ],
   "source": [
    "import numpy as np\n",
    "from grid import GaussLegendre, BeckeRTransform, AtomGrid\n",
    "\n",
    "# construct a radial grid with 150 points\n",
    "oned = GaussLegendre(npoints=150)\n",
    "rgrid = BeckeRTransform(0.0, R=1.5).transform_1d_grid(oned)\n",
    "\n",
    "print(f\"Radial grid size : {rgrid.size}\")\n",
    "print(f\"Radial grid r_min: {np.min(rgrid.points):.5f}\")\n",
    "print(f\"Radial grid r_max: {np.max(rgrid.points):.5f}\\n\")\n",
    "\n",
    "# construct atomic grid\n",
    "atgrid = AtomGrid(rgrid, degrees=[22], center=center)\n",
    "\n",
    "# atomic grid size = (radial grid size) * (angular grid size)\n",
    "print(f\"AtomGrid size          : {atgrid.size}\")\n",
    "print(f\"AtomGrid points shape  : {atgrid.points.shape}\")\n",
    "print(f\"AtomGrid weights shape : {atgrid.weights.shape}\")\n",
    "print(f\"AtomGrid radial size   : {atgrid.rgrid.size}\")\n",
    "print(f\"AtomGrid angular degree: {atgrid.degrees}\")\n",
    "print(f\"AtomGrid center        : {atgrid.center}\")"
   ]
  },
  {
   "cell_type": "markdown",
   "metadata": {},
   "source": [
    "### Example: Integrate Electron Density\n",
    "\n",
    "To integrate a scalar function over the atomic grid, we first need to evaluate the function on the grid points. Here, we compute the electron density $\\rho(\\mathbf{r})$ of the $\\textbf{He}$ in the triplet state ($1s^1 2s^1$) using the [gbasis.evals.density](https://gbasis.qcdevs.org/_autosummary/gbasis.evals.html#gbasis.evals.density.evaluate_density) function of the [qc-gbasis](https://github.com/theochem/gbasis) package. The wavefunction data are loaded from the formatted checkpoint file using [load_one](https://iodata.readthedocs.io/en/latest/pyapi/iodata.api.html#iodata.api.load_one) function of [qc-iodata](https://github.com/theochem/iodata)package. The density values are then integrated using the [AtomGrid.integrate](https://grid.qcdevs.org/pyapi/grid.basegrid.html#grid.basegrid.Grid.integrate) method.\n"
   ]
  },
  {
   "cell_type": "code",
   "execution_count": 10,
   "metadata": {},
   "outputs": [
    {
     "name": "stdout",
     "output_type": "stream",
     "text": [
      "Shape of electron density array : (29100,)\n",
      "Number of electrons in molecule : 2.0\n",
      "Integral of the electron density: 1.9999999911143622\n"
     ]
    }
   ],
   "source": [
    "from gbasis.wrappers import from_iodata\n",
    "from gbasis.evals.density import evaluate_density\n",
    "\n",
    "# Check that the atomic grid is centered at the position of atomic nucleus\n",
    "assert np.all(mol.atcoords == atgrid.center)\n",
    "\n",
    "# Construct molecular basis from wave-function information read by IOData\n",
    "basis = from_iodata(mol)\n",
    "\n",
    "# Evaluate the electron density on the grid points\n",
    "rdm = mol.one_rdms[\"scf\"]\n",
    "dens = evaluate_density(rdm, basis, atgrid.points)\n",
    "print(f\"Shape of electron density array : {dens.shape}\")\n",
    "\n",
    "# Integrate electron density\n",
    "print(f\"Number of electrons in molecule : {np.sum(mol.atnums) - mol.charge}\")\n",
    "print(f\"Integral of the electron density: {atgrid.integrate(dens)}\")"
   ]
  },
  {
   "cell_type": "markdown",
   "metadata": {},
   "source": [
    "### Example: Calculate Radial Electron Density Distribution\n",
    "\n",
    "The radial distribution of the electron density describes the probability of finding an electron in the spherical shell between $r$ and $r + dr$. This is calculated by integrating the electron density over the angular coordinates.\n",
    "\n",
    "$$\\rho(r) = \\int_\\theta \\int_\\phi \\rho(r, \\theta, \\phi) r^{2} sin(\\phi) d\\theta d\\phi$$\n",
    "\n",
    "The $r^{2} sin(\\phi)$ in the integral is added because the electron density is defined in spherical coordinates and the volume element is given by $dV = r^{2} sin(\\phi) dr d\\theta d\\phi$. This integral can be written as a sum over the grid points:\n",
    "\n",
    "$$\\rho(r_i) = r_{i}^{2}  \\int  \\int  \\rho(r_{i}, \\theta, \\phi)sin(\\phi) d\\theta d\\phi$$\n",
    "\n",
    "where $r_i$ is a radial grid point.\n",
    "\n",
    "Here we calculate the radial electron density distribution for the $\\textbf{He}$ atom in the triplet ($1s^2 2s^1$) state using the previously defined atomic grid and the electron density values calculated on the grid points.\n"
   ]
  },
  {
   "cell_type": "code",
   "execution_count": 11,
   "metadata": {},
   "outputs": [
    {
     "name": "stdout",
     "output_type": "stream",
     "text": [
      "Max difference between radial_dens_1 and radial_dens_2: 2.220446049250313e-16\n"
     ]
    },
    {
     "data": {
      "image/png": "[encoded data removed]",
      "text/plain": [
       "<Figure size 640x480 with 1 Axes>"
      ]
     },
     "metadata": {},
     "output_type": "display_data"
    }
   ],
   "source": [
    "import matplotlib.pyplot as plt\n",
    "\n",
    "# Compute the radial electron density by angular integration\n",
    "radial_dens_1 = atgrid.integrate_angular_coordinates(dens)\n",
    "radial_dens_1 *= rgrid.points**2\n",
    "\n",
    "# Compute the radial electron density by spherical average interpolation\n",
    "radial_dens_2 = atgrid.spherical_average(dens)(rgrid.points)\n",
    "radial_dens_2 *= 4 * np.pi * rgrid.points**2\n",
    "\n",
    "# Compare the two ways of computing radial electron density\n",
    "max_diff = np.max(np.abs(radial_dens_1 - radial_dens_2))\n",
    "print(f\"Max difference between radial_dens_1 and radial_dens_2: {max_diff}\")\n",
    "\n",
    "# Plot radial electron density distribution\n",
    "plt.plot(rgrid.points, radial_dens_1, c=\"r\", marker=\"o\", ls=\"\", label=\"From angular integration\")\n",
    "plt.plot(rgrid.points, radial_dens_2, c=\"k\", label=\"From spherical average\")\n",
    "plt.title(\"Radial Electron Density Distribution of He $(1s^{1}2s^{1})$\", fontsize=14)\n",
    "plt.xlabel(\"r (bohr)\", fontsize=12)\n",
    "plt.ylabel(r\"Radial $\\rho(r)$\", fontsize=12)\n",
    "plt.xlim(0, 10)\n",
    "plt.legend(frameon=False, fontsize=14)\n",
    "plt.show()"
   ]
  },
  {
   "cell_type": "markdown",
   "metadata": {},
   "source": [
    "To identify the local maxima of radial electron density and corresponding radii, the [scipy.signal.find_peaks](https://docs.scipy.org/doc/scipy/reference/generated/scipy.signal.find_peaks.html) is used.\n"
   ]
  },
  {
   "cell_type": "code",
   "execution_count": 12,
   "metadata": {},
   "outputs": [
    {
     "name": "stdout",
     "output_type": "stream",
     "text": [
      "Peak 0 of radial electron density has:\n",
      "   radius = 0.40162 bohr\n",
      "   radial density = 1.56127 a.u.\n",
      "\n",
      "Peak 1 of radial electron density has:\n",
      "   radius = 1.59695 bohr\n",
      "   radial density = 0.75479 a.u.\n",
      "\n"
     ]
    }
   ],
   "source": [
    "from scipy.signal import find_peaks\n",
    "\n",
    "peaks, _ = find_peaks(radial_dens_1)\n",
    "\n",
    "for i, peak in enumerate(peaks):\n",
    "    print(f\"Peak {i} of radial electron density has:\")\n",
    "    print(f\"   radius = {rgrid.points[peak]:.5f} bohr\")\n",
    "    print(f\"   radial density = {radial_dens_1[peak]:.5f} a.u.\\n\")"
   ]
  },
  {
   "cell_type": "markdown",
   "metadata": {},
   "source": [
    "The maximum values of the radial electron density distribution corresponds to the radial position with maximum probability of finding an electron. In this case there are two maximum values corresponding to the two electrons. The first one (left to right) corresponds to the $1s$ orbital and the second one to the $2s$ orbital. The radial electron density distribution also integrates to the total number of electrons in the system.\n"
   ]
  },
  {
   "cell_type": "code",
   "execution_count": 13,
   "metadata": {},
   "outputs": [
    {
     "name": "stdout",
     "output_type": "stream",
     "text": [
      "Number of electrons in atom            : 2.0\n",
      "Integral of the radial electron density: 1.9999999911143642\n"
     ]
    }
   ],
   "source": [
    "print(f\"Number of electrons in atom            : {np.sum(mol.atnums) - mol.charge}\")\n",
    "print(f\"Integral of the radial electron density: {rgrid.integrate(radial_dens_1)}\")"
   ]
  },
  {
   "cell_type": "markdown",
   "metadata": {},
   "source": [
    "### Example: Calculate Classical Coulomb Repulsion Energy\n",
    "\n",
    "The classical Coulomb repulsion energy $\\mathbf{J}$ is defined as:\n",
    "\n",
    "$$\\mathbf{J} = \\frac{1}{2} \\int \\int \\frac{\\rho(\\mathbf{r}) \\rho(\\mathbf{r}')}{|\\mathbf{r} - \\mathbf{r}'|} d\\mathbf{r} d\\mathbf{r}'$$\n",
    "\n",
    "where $\\rho(\\mathbf{r})$ is the electron density at point $\\mathbf{r}$. This double integral can be rewritten as a double sum over grids $\\text{G}_1$ and $\\text{G}_2$ each with sizes $N_{\\text{G}_1}$ and $N_{\\text{G}_2}$ respectively:\n",
    "\n",
    "$$\n",
    "E_{rep} = \\frac{1}{2} \\sum_{i}^{N_{\\text{G}_1}} \\sum_{j}^{N_{\\text{G}_2}} \\frac{w(\\mathbf{r}_i)\\rho(\\mathbf{r}_i) w(\\mathbf{r}_j)\\rho(\\mathbf{r}_j)}{|\\mathbf{r}_i - \\mathbf{r}_j|} =\n",
    "\\frac{1}{2} \\sum_{i}^{N_{\\text{G}_1}} w(\\mathbf{r}_i)\\rho(\\mathbf{r}_i) \\sum_{j}^{N_{\\text{G}_2}} \\frac{w(\\mathbf{r}_j)\\rho(\\mathbf{r}_j)}{|\\mathbf{r}_i - \\mathbf{r}_j|}\n",
    "$$\n",
    "\n",
    "where $\\mathbf{r}$ and $w(\\mathbf{r})$ represent the coordinates and weights of grid points.\n",
    "When $i = j$, the denominator is zero denominator and the energy is undefined. To ensure that grid points do not coincide, different grids are used for $\\mathbf{r}_i$ and $\\mathbf{r}_j$ within the same spatial domain. This can be easily done by introducing a second atomic grid with different angular degree or one less radial grid points. The electron density values on this second grid can be either directly computed or obtained by interpolating from the values on the first grid using the [AtomGrid.interpolate](https://grid.qcdevs.org/pyapi/grid.atomgrid.html#grid.atomgrid.AtomGrid.interpolate) method.\n"
   ]
  },
  {
   "cell_type": "code",
   "execution_count": 14,
   "metadata": {},
   "outputs": [
    {
     "name": "stdout",
     "output_type": "stream",
     "text": [
      "Classic Coulomb Energy : 1.772374684606753 (hartree)\n"
     ]
    }
   ],
   "source": [
    "# Construct another radial grid with one less point\n",
    "oned = GaussLegendre(npoints=atgrid.rgrid.size - 1)\n",
    "rgrid = BeckeRTransform(0.0, R=1.5).transform_1d_grid(oned)\n",
    "\n",
    "# Construct the second atomic grid (i.e., auxiliary grid) with the same angular degree\n",
    "atgrid_aux = AtomGrid(rgrid, degrees=[23])\n",
    "\n",
    "# interpolate the electron density on the auxiliary atomic gird points\n",
    "func_interpolate_dens = atgrid.interpolate(dens)\n",
    "dens_aux = func_interpolate_dens(atgrid_aux.points)\n",
    "\n",
    "classic_coulomb = 0.0\n",
    "# loop over grid points in the first grid\n",
    "for i in range(atgrid.size):\n",
    "    # compute its distance to all the points in the auxiliary atomgrid\n",
    "    distances = np.linalg.norm(atgrid.points[i] - atgrid_aux.points, axis=1)\n",
    "    # compute its Coulomb repulsion with the electron density at the auxiliary atomgrid points\n",
    "    coulomb_points = atgrid.weights[i] * dens[i] * dens_aux / distances / 2\n",
    "    classic_coulomb += atgrid_aux.integrate(coulomb_points)\n",
    "\n",
    "print(f\"Classic Coulomb Energy : {classic_coulomb} (hartree)\")"
   ]
  }
 ],
 "metadata": {
  "kernelspec": {
   "display_name": "Python 3",
   "language": "python",
   "name": "python3"
  },
  "language_info": {
   "codemirror_mode": {
    "name": "ipython",
    "version": 3
   },
   "file_extension": ".py",
   "mimetype": "text/x-python",
   "name": "python",
   "nbconvert_exporter": "python",
   "pygments_lexer": "ipython3",
   "version": "3.10.12"
  }
 },
 "nbformat": 4,
 "nbformat_minor": 0
}
