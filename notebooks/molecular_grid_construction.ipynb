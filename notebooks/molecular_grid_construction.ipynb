{
 "cells": [
  {
   "cell_type": "markdown",
   "metadata": {},
   "source": [
    "[![Open In Colab](https://colab.research.google.com/assets/colab-badge.svg)](https://colab.research.google.com/github/theochem/grid/blob/master/examples/Molecular_Grid_Construction.ipynb)"
   ]
  },
  {
   "cell_type": "markdown",
   "metadata": {
    "collapsed": false
   },
   "source": [
    "# Constructing Molecular Grids\n",
    "Molecular grids are particularly useful in quantum chemistry for integrating functions that concentrate and are \"spike\" around finite set of points, usually the atomic nuclei. This is particularly needed for DFT computation or atom-in-molecule analysis.\n",
    "\n",
    "### Molecular Grid Details\n",
    "It starts by first decomposing a function into atomic contributions and\n",
    "writing out each atomic integral in spherical coordinates. As proposed by Becke, this is done as\n",
    "\n",
    "$$\n",
    "    \\int_{\\mathbb{R}^3} f(\\vec{\\textbf{r}}) d\\vec{\\textbf{r}} = \\sum_{A} \\int_{\\mathbb{R}^3}\n",
    "    w_A(\\vec{\\textbf{r}}) f(\\vec{\\textbf{r}}) d\\vec{\\textbf{r}},\n",
    "$$\n",
    "\n",
    "where $w_A$ is known as the nuclear weight function (or atom in molecule weights) such that it has value one close to  the center and decay's continuous over other centers with the condition that $\\sum_{A} w_A(\\vec{\\textbf{r}}) = 1$ for all $\\vec{\\textbf{r}}$.  The module [Molecular Grids](../pyapi/grid.molgrid.rst) is responsible for computing integrals in this fashion with either [Becke](../pyapi/grid.becke.rst) or [Hirshfeld](../pyapi/grid.hirshfeld.rst) atom in molecule weights. The process to integrate each individual integral is done by first converting to spherical coordinates $(r, \\theta, \\phi)$:\n",
    "\n",
    "$$\n",
    "    \\int_{\\mathbb{R}^3} w_A(\\vec{\\textbf{r}}) f(\\vec{\\textbf{r}}) d\\vec{\\textbf{r}} =\n",
    "    \\int \\int \\int  w_A(r, \\theta, \\phi) f(r, \\theta, \\phi) r^2 \\sin(\\phi) dr d\\theta d\\phi\n",
    "$$\n",
    "\n",
    "Then a one-dimensional grid is chosen over the radial grid (see [radial](../pyapi/grid.onedgrid.rst) and [radial transform](../pyapi/grid.rtransform.rst) module) with weights $w_i^{rad}$ and an angular grid with weights $w_j^{ang}$ is  chosen to integrate over the angles $(\\theta, \\phi)$ including the sin factor. The combination of the two is handled by the [atomic grid](../pyapi/grid.atomgrid.rst) module with weights $w_{ij} = w_i^{rad} w_j^{ang} r^2$ to achieve the numerical integral\n",
    "\n",
    "$$\n",
    "    \\int \\int \\int  w_A(r, \\theta, \\phi) f(r, \\theta, \\phi) r^2 \\sin(\\phi) dr d\\theta d\\phi \\approx\n",
    "    \\sum_{i=1}^{N_{rad}} \\sum_{j=1}^{N_{ang}} w_{ij}(r, \\theta, \\phi)\n",
    "    w_A(r, \\theta, \\phi) f(r, \\theta, \\phi).\n",
    "$$\n",
    "\n",
    "For any general function $f: \\mathbb{R}^3\\rightarrow \\mathbb{R}$, Grid package offers various grids in [Cubic](../pyapi/grid.cubic.rst) class for constructing hyper-rectangular grids. If $f$ is periodic, then the [periodic](../pyapi/grid.periodicgrid.rst) module is useful.\n",
    "\n",
    "\n",
    "**Example: Formaldehyde**\n",
    "This example computes the integral of the electron density of Formaldehyde obtained from Gaussian calculation. The integral of the electron density should be the sum of the atomic charges (16 for Formaldehyde)."
   ]
  },
  {
   "cell_type": "code",
   "execution_count": null,
   "metadata": {},
   "outputs": [],
   "source": [
    "# # Install packages in Google Colab\n",
    "# ! pip install qc-iodata\n",
    "# ! pip install qc-grid\n",
    "# ! pip install qc-gbasis\n",
    "\n",
    "# # Download the example files\n",
    "# from urllib.request import urlretrieve\n",
    "# urlretrieve(\"https://raw.githubusercontent.com/theochem/grid/refs/heads/master/examples/ch2o_q%2B0.fchk\",\"ch2o_q+0.fchk\")"
   ]
  },
  {
   "cell_type": "code",
   "execution_count": 1,
   "metadata": {
    "ExecuteTime": {
     "end_time": "2024-01-16T15:18:34.285044660Z",
     "start_time": "2024-01-16T15:18:33.967271585Z"
    },
    "collapsed": true
   },
   "outputs": [
    {
     "name": "stdout",
     "output_type": "stream",
     "text": [
      "Coordinates of the atoms \n",
      " [[ 2.27823914e+00  4.13899085e-07  3.12033662e-07]\n",
      " [ 1.01154892e-02  1.09802629e-07 -6.99333116e-07]\n",
      " [-1.09577141e+00  1.77311416e+00  1.42544321e-07]\n",
      " [-1.09577166e+00 -1.77311468e+00  2.44755133e-07]]\n",
      "\n",
      "Atomic numbers of the atom \n",
      " [8 6 1 1]\n"
     ]
    }
   ],
   "source": [
    "# Generate the electron density, coordinates and charges from .fchk file\n",
    "from iodata import load_one\n",
    "from gbasis.wrappers import from_iodata\n",
    "from gbasis.evals.density import evaluate_density\n",
    "\n",
    "mol = load_one(\"ch2o_q+0.fchk\")\n",
    "\n",
    "print(f\"Coordinates of the atoms \\n {mol.atcoords}\\n\")\n",
    "print(f\"Atomic numbers of the atom \\n {mol.atnums}\")\n",
    "\n",
    "atnums = mol.atnums\n",
    "atcoords = mol.atcoords\n",
    "\n",
    "# Construct molecular basis from wave-function information read by IOData\n",
    "basis = from_iodata(mol)\n",
    "\n",
    "# Get the RDM to compute electron density\n",
    "rdm = mol.one_rdms[\"scf\"]"
   ]
  },
  {
   "cell_type": "markdown",
   "metadata": {
    "collapsed": false
   },
   "source": [
    "### Construction of Molecular Grid\n",
    "\n",
    "Molecular grid offers various methods to construct MolGrid object.  Each method requires the atom in molecule weights $w_A$ to be provided.\n",
    "\n",
    "1. [MolGrid.\\_\\_init\\_\\_](../pyapi/grid.molgrid.rst#grid.molgrid.MolGrid): Provide list of atomic grids for each center, and the atomic numbers for each center. This is useful to explicitly place atomic grids at each center.\n",
    "2. [MolGrid.from_preset()](../pyapi/grid.molgrid.rst#grid.molgrid.MolGrid.from_preset): Generates atomic grid for each center based on the atomic numbers, atomic coordinates, a radial grid to integrate over $[0, \\infty)$, and a preset parameter from the list [\"coarse\", \"medium\", \"fine\", \"veryfine\", \"ultrafine\", \"insane\"] that controls the degree of the angular grid.\n",
    "3. [MolGrid.from_size()](../pyapi/grid.molgrid.rst#grid.molgrid.MolGrid.from_size): Similar to from_preset method but instead of string preset parameter, it has an integer size which controls the size of the angular grid inside the atomic grid class.\n",
    "4. [MolGrid.from_pruned()](../pyapi/grid.molgrid.rst#grid.molgrid.MolGrid.from_pruned): Gives more control to the size of the angular grid based on the radius.  This is done by providing `r_sectors` list and `sector_degs` that controls what kind of angular grid to place at each radius point. This is useful for placing lower degree angular grids close to the nucleus and larger degree angular grids further away.\n",
    "\n",
    "See the function documentation for more information.  The first step here is to generate an one-dimensional grid to integrate over the radial coordinate $r \\in [0, \\infty)$.  This is done by constructing a Trapezoidal grid over $[-1, 1]$ and using the Becke Transformation to transform it to $[0, \\infty)$.\n"
   ]
  },
  {
   "cell_type": "code",
   "execution_count": 2,
   "metadata": {
    "ExecuteTime": {
     "end_time": "2024-01-16T15:18:34.499865044Z",
     "start_time": "2024-01-16T15:18:34.283896296Z"
    },
    "collapsed": false
   },
   "outputs": [],
   "source": [
    "from grid.onedgrid import Trapezoidal\n",
    "from grid.rtransform import LinearFiniteRTransform\n",
    "\n",
    "n_rpoints = 400                         # Number of radial points\n",
    "oned = Trapezoidal(n_rpoints)           # Trapezoidal grid of that size\n",
    "rmin, R = 0.0, 0.5                      # Parameters for the Becke radial transform\n",
    "rgrid = LinearFiniteRTransform(rmin, 8).transform_1d_grid(oned)"
   ]
  },
  {
   "cell_type": "markdown",
   "metadata": {
    "collapsed": false
   },
   "source": [
    "The Becke weights is constructed as the atom in molecular weights (also called nuclear weight functions)"
   ]
  },
  {
   "cell_type": "code",
   "execution_count": 3,
   "metadata": {
    "ExecuteTime": {
     "end_time": "2024-01-16T15:18:34.504442100Z",
     "start_time": "2024-01-16T15:18:34.500671708Z"
    },
    "collapsed": false
   },
   "outputs": [],
   "source": [
    "from grid.becke import BeckeWeights\n",
    "\n",
    "aim_weights = BeckeWeights()"
   ]
  },
  {
   "cell_type": "markdown",
   "metadata": {
    "collapsed": false
   },
   "source": [
    "#### Constructor\n",
    "The first method of constructing (point 1 above) is using the initializor.  This is done by explicitly constructing an atomic grid over each center.\n",
    "The degree of the angular component of the atomic grid should depend on the charge of the atom.  It is recommended that the larger the atom, the larger\n",
    "the degree of the angular component. Similarly for the radial grid, the larger the atom, the larger the radial grid component should be.\n"
   ]
  },
  {
   "cell_type": "code",
   "execution_count": 4,
   "metadata": {
    "ExecuteTime": {
     "end_time": "2024-01-16T15:18:46.759909059Z",
     "start_time": "2024-01-16T15:18:34.505672878Z"
    },
    "collapsed": false
   },
   "outputs": [
    {
     "name": "stderr",
     "output_type": "stream",
     "text": [
      "/mnt/Data/Work/Ayers/QC-Devs/grid/src/grid/atomgrid.py:879: UserWarning: Lebedev weights are negative which can introduce round-off errors.\n",
      "  sphere_grid = AngularGrid(degree=deg_i, method=method)\n"
     ]
    },
    {
     "name": "stdout",
     "output_type": "stream",
     "text": [
      "The integral of electron density of Formaldehyde is 15.999822947424516.\n"
     ]
    }
   ],
   "source": [
    "from grid.molgrid import MolGrid\n",
    "from grid.atomgrid import AtomGrid\n",
    "\n",
    "# Construct molecular grid\n",
    "atom_grid_oxygen = AtomGrid(rgrid, degrees=[51], center=atcoords[0])\n",
    "atom_grid_carbon = AtomGrid(rgrid, degrees=[25], center=atcoords[1])\n",
    "atom_grid_hydro1 = AtomGrid(rgrid, degrees=[10], center=atcoords[2])\n",
    "atom_grid_hydro2 = AtomGrid(rgrid, degrees=[10], center=atcoords[3])\n",
    "atom_grids = [atom_grid_oxygen, atom_grid_carbon, atom_grid_hydro1, atom_grid_hydro2]\n",
    "molgrid = MolGrid(atnums, atom_grids, aim_weights, store=True)\n",
    "\n",
    "density = evaluate_density(rdm, basis, molgrid.points)\n",
    "\n",
    "integral = molgrid.integrate(density)\n",
    "print(f\"The integral of electron density of Formaldehyde is {integral}.\")"
   ]
  },
  {
   "cell_type": "markdown",
   "metadata": {
    "collapsed": false
   },
   "source": [
    "#### from_preset method\n",
    "\n",
    "The disadvantage of the previous method is that it is difficult to choose the size of the angular degrees for each atom, and it can be cumbersome for larger atoms to construct atomic grids for each center.\n",
    "The `from_preset` method has a preset that handles it for the user that is simpler.\n"
   ]
  },
  {
   "cell_type": "code",
   "execution_count": 5,
   "metadata": {
    "ExecuteTime": {
     "end_time": "2024-01-16T15:18:51.874706764Z",
     "start_time": "2024-01-16T15:18:46.761535272Z"
    },
    "collapsed": false
   },
   "outputs": [
    {
     "name": "stdout",
     "output_type": "stream",
     "text": [
      "The integral of electron density of Formaldehyde is 15.999839766372306.\n"
     ]
    }
   ],
   "source": [
    "from grid.molgrid import MolGrid\n",
    "\n",
    "molgrid = MolGrid.from_preset(atnums, atcoords, rgrid=rgrid, preset=\"fine\", aim_weights=aim_weights, store=True)\n",
    "\n",
    "density = evaluate_density(rdm, basis, molgrid.points)\n",
    "integral = molgrid.integrate(density)\n",
    "print(f\"The integral of electron density of Formaldehyde is {integral}.\")"
   ]
  },
  {
   "cell_type": "markdown",
   "metadata": {
    "collapsed": false
   },
   "source": [
    "#### from_size method\n",
    "\n",
    "This method is similar to before except you can explicitly set the size of the angular degrees.  This is the same across all atoms."
   ]
  },
  {
   "cell_type": "code",
   "execution_count": 6,
   "metadata": {
    "ExecuteTime": {
     "end_time": "2024-01-16T15:18:53.486692981Z",
     "start_time": "2024-01-16T15:18:51.874204180Z"
    },
    "collapsed": false
   },
   "outputs": [
    {
     "name": "stdout",
     "output_type": "stream",
     "text": [
      "The integral of electron density of Formaldehyde is 16.000299762134755.\n"
     ]
    }
   ],
   "source": [
    "from grid.molgrid import MolGrid\n",
    "\n",
    "molgrid = MolGrid.from_size(atnums, atcoords, rgrid=rgrid, size=40, aim_weights=aim_weights, store=True)\n",
    "\n",
    "density = evaluate_density(rdm, basis, molgrid.points)\n",
    "integral = molgrid.integrate(density)\n",
    "print(f\"The integral of electron density of Formaldehyde is {integral}.\")"
   ]
  },
  {
   "cell_type": "markdown",
   "metadata": {
    "collapsed": false
   },
   "source": [
    "#### from_pruned method\n",
    "\n",
    "This method allows explicit control to the angular degree $L_i$ by breaking up the radial grid $[0, \\infty)$ into sectors $[0, R a_1) \\cup [R a_1, R a_2) \\cup \\cdots \\cup [R a_Q, \\infty)$ where $R$ is the radius parameter, $\\{a_i\\}$ is the `r_sectors` and each segment is associated to a angular degree $L_i$, i.e.\n",
    "\n",
    "$$\n",
    "\\begin{align*}\n",
    "                &L_1 \\text{ when } r < R a_1 \\\\\n",
    "                &L_2 \\text{ when } R a_1 \\leq r < R a_2 \\\\\n",
    "                \\vdots \\\\\n",
    "                &L_{Q+1} \\text{ when } R a_{Q} < r.\n",
    "            \\end{align*}\n",
    "$$\n"
   ]
  },
  {
   "cell_type": "code",
   "execution_count": 7,
   "metadata": {
    "ExecuteTime": {
     "end_time": "2024-01-16T15:18:55.194592365Z",
     "start_time": "2024-01-16T15:18:53.483982471Z"
    },
    "collapsed": false
   },
   "outputs": [
    {
     "name": "stderr",
     "output_type": "stream",
     "text": [
      "/mnt/Data/Work/Ayers/QC-Devs/grid/src/grid/atomgrid.py:879: UserWarning: Lebedev weights are negative which can introduce round-off errors.\n",
      "  sphere_grid = AngularGrid(degree=deg_i, method=method)\n"
     ]
    },
    {
     "name": "stdout",
     "output_type": "stream",
     "text": [
      "The integral of electron density of Formaldehyde is 16.000504626151567.\n"
     ]
    }
   ],
   "source": [
    "from grid.molgrid import MolGrid\n",
    "\n",
    "r_sectors = [\n",
    "    [0.25, 1.0, 1.5],   # for oxygen\n",
    "    [0.5, 1.0, 1.5],    # for carbon\n",
    "    [1.0], [1.0]        # for hydrogen\n",
    "]\n",
    "d_sectors = [\n",
    "    [10, 15, 25, 10],   # for oxygen\n",
    "    [5, 10, 20, 10],    # for carbon\n",
    "    [5, 10], [5, 10]    # for hydrogen\n",
    "]\n",
    "radius = 1.0\n",
    "molgrid = MolGrid.from_pruned(atnums, atcoords, radius, r_sectors=r_sectors, d_sectors=d_sectors, aim_weights=aim_weights, rgrid=rgrid)\n",
    "\n",
    "density = evaluate_density(rdm, basis, molgrid.points)\n",
    "integral = molgrid.integrate(density)\n",
    "print(f\"The integral of electron density of Formaldehyde is {integral}.\")\n"
   ]
  }
 ],
 "metadata": {
  "kernelspec": {
   "display_name": "Python 3",
   "language": "python",
   "name": "python3"
  },
  "language_info": {
   "codemirror_mode": {
    "name": "ipython",
    "version": 3
   },
   "file_extension": ".py",
   "mimetype": "text/x-python",
   "name": "python",
   "nbconvert_exporter": "python",
   "pygments_lexer": "ipython3",
   "version": "3.10.12"
  }
 },
 "nbformat": 4,
 "nbformat_minor": 0
}
