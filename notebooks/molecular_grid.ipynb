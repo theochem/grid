{
 "cells": [
  {
   "cell_type": "markdown",
   "metadata": {},
   "source": [
    "[![Open In Colab](https://colab.research.google.com/assets/colab-badge.svg)](https://colab.research.google.com/github/theochem/grid/blob/master/examples/Molecular_Grid.ipynb)"
   ]
  },
  {
   "cell_type": "markdown",
   "metadata": {
    "collapsed": false
   },
   "source": [
    "# Molecular Grids\n",
    "\n",
    "This example on Formaldehyde illustates all the features of using molecular grids.\n",
    "\n",
    "The format checkpoint file wavefunction is included in \"doc/notebooks/ch2o_q+0.fchk\" and is\n",
    "read using the [IOData](https://github.com/theochem/iodata) package.\n"
   ]
  },
  {
   "cell_type": "code",
   "execution_count": 4,
   "metadata": {},
   "outputs": [
    {
     "name": "stdout",
     "output_type": "stream",
     "text": [
      "/home/marco/miniconda3/envs/grid_env/lib/python3.10/site-packages/grid\n"
     ]
    }
   ],
   "source": [
    "# # Install packages in Google Colab\n",
    "# ! pip install qc-iodata\n",
    "# ! pip install qc-grid\n",
    "# ! pip install qc-gbasis\n",
    "\n",
    "\n",
    "# # Download the example files\n",
    "# from urllib.request import urlretrieve\n",
    "# urlretrieve(\"https://raw.githubusercontent.com/theochem/grid/refs/heads/master/examples/ch2o_q%2B0.fchk\",\"ch2o_q+0.fchk\")"
   ]
  },
  {
   "cell_type": "code",
   "execution_count": 1,
   "metadata": {
    "ExecuteTime": {
     "end_time": "2023-05-18T16:47:59.203357490Z",
     "start_time": "2023-05-18T16:47:58.867656425Z"
    },
    "collapsed": true
   },
   "outputs": [
    {
     "name": "stdout",
     "output_type": "stream",
     "text": [
      "Coordinates of the atoms \n",
      " [[ 2.27823914e+00  4.13899085e-07  3.12033662e-07]\n",
      " [ 1.01154892e-02  1.09802629e-07 -6.99333116e-07]\n",
      " [-1.09577141e+00  1.77311416e+00  1.42544321e-07]\n",
      " [-1.09577166e+00 -1.77311468e+00  2.44755133e-07]]\n",
      "\n",
      "Atomic numbers of the atom \n",
      " [8 6 1 1]\n"
     ]
    }
   ],
   "source": [
    "import numpy as np\n",
    "from iodata import load_one\n",
    "\n",
    "mol = load_one(\"ch2o_q+0.fchk\")\n",
    "\n",
    "print(f\"Coordinates of the atoms \\n {mol.atcoords}\\n\")\n",
    "print(f\"Atomic numbers of the atom \\n {mol.atnums}\")"
   ]
  },
  {
   "cell_type": "markdown",
   "metadata": {
    "collapsed": false
   },
   "source": [
    "The first step to constructing a molecular grid is to define a radial grid to integrate over the radial coordinate. This is done by first defining a GaussLegendre grid over $[-1, 1]$ and transforming it to $[0, \\infty)$ using a Becke Transformation.\n"
   ]
  },
  {
   "cell_type": "code",
   "execution_count": 2,
   "metadata": {
    "ExecuteTime": {
     "end_time": "2023-05-18T16:48:01.272238929Z",
     "start_time": "2023-05-18T16:48:00.739624430Z"
    },
    "collapsed": false
   },
   "outputs": [
    {
     "name": "stdout",
     "output_type": "stream",
     "text": [
      "One-dimesional points \n",
      " [-0.9988664  -0.99403197 -0.98535408 -0.97286439 -0.95661096 -0.93665662\n",
      " -0.91307856 -0.88596798 -0.85542977 -0.82158207 -0.78455583 -0.7444943\n",
      " -0.70155247 -0.65589647 -0.60770293 -0.5571583  -0.50445814 -0.44980633\n",
      " -0.39341431 -0.33550025 -0.27628819 -0.21600724 -0.15489059 -0.0931747\n",
      " -0.03109834  0.03109834  0.0931747   0.15489059  0.21600724  0.27628819\n",
      "  0.33550025  0.39341431  0.44980633  0.50445814  0.5571583   0.60770293\n",
      "  0.65589647  0.70155247  0.7444943   0.78455583  0.82158207  0.85542977\n",
      "  0.88596798  0.91307856  0.93665662  0.95661096  0.97286439  0.98535408\n",
      "  0.99403197  0.9988664 ]\n",
      "\n",
      "Transformed points \n",
      " [8.50678848e-04 4.48941942e-03 1.10654689e-02 2.06316373e-02\n",
      " 3.32634175e-02 4.90613930e-02 6.81530638e-02 9.06950874e-02\n",
      " 1.16876073e-01 1.46920031e-01 1.81090580e-01 2.19696072e-01\n",
      " 2.63095794e-01 3.11707472e-01 3.66016382e-01 4.26586392e-01\n",
      " 4.94073421e-01 5.69241890e-01 6.52984919e-01 7.46349269e-01\n",
      " 8.50566286e-01 9.67090581e-01 1.09764867e+00 1.24430061e+00\n",
      " 1.40951880e+00 1.59628946e+00 1.80824471e+00 2.04983623e+00\n",
      " 2.32656593e+00 2.64529648e+00 3.01467435e+00 3.44571510e+00\n",
      " 3.95262549e+00 4.55397903e+00 5.27442985e+00 6.14726583e+00\n",
      " 7.21830627e+00 8.55201815e+00 1.02414211e+01 1.24247214e+01\n",
      " 1.53144537e+01 1.92511601e+01 2.48083999e+01 3.30139230e+01\n",
      " 4.58609073e+01 6.76418771e+01 1.09055814e+02 2.03335260e+02\n",
      " 5.01178390e+02 2.64494645e+03]\n"
     ]
    }
   ],
   "source": [
    "from grid.onedgrid import GaussLegendre\n",
    "from grid.rtransform import BeckeRTransform\n",
    "\n",
    "oned_grid = GaussLegendre(npoints=50)\n",
    "print(f\"One-dimesional points \\n {oned_grid.points}\\n\")\n",
    "\n",
    "radial_grid = BeckeRTransform(0.0, R=1.5).transform_1d_grid(oned_grid)\n",
    "print(f\"Transformed points \\n {radial_grid.points}\")"
   ]
  },
  {
   "cell_type": "markdown",
   "metadata": {
    "collapsed": false
   },
   "source": [
    "Once a radial grid is defined, there are several methods to constructing a molecular grid. The simplest of such method is used. Here, Becke weights are used as an atom in molecule weights.\n"
   ]
  },
  {
   "cell_type": "code",
   "execution_count": 3,
   "metadata": {
    "ExecuteTime": {
     "end_time": "2023-05-18T16:48:02.836108707Z",
     "start_time": "2023-05-18T16:48:02.704710630Z"
    },
    "collapsed": false
   },
   "outputs": [],
   "source": [
    "from grid.becke import BeckeWeights\n",
    "from grid.molgrid import MolGrid\n",
    "\n",
    "mol_grid = MolGrid.from_preset(\n",
    "    atnums=mol.atnums,          # The atomic numbers of Formaldehyde\n",
    "    atcoords=mol.atcoords,      # The atomic coordinates of Formaldehyde\n",
    "    rgrid=radial_grid,          # Radial grid used to construct atomic grids over each carbon, and hydrogen.\n",
    "    preset=\"fine\",              # Controls the angular degree. Can be \"coarse\", \"medium\", \"fine\", \"veryfine\", \"ultrafine\", \"insane\".\n",
    "    aim_weights=BeckeWeights(), # Atom-in molecular weights: Becke weights\n",
    "    store=True,                 # Stores the individual atomic grids, used for interpolation.\n",
    ")\n",
    "\n",
    "# Alternative construction includes:\n",
    "# mol_grid = MolGrid.from_size(\n",
    "#     atnums=mol.atnums,          # The atomic numbers of Formaldehyde\n",
    "#     atcoords=mol.atcoords,      # The atomic coordinates of Formaldehyde\n",
    "#     rgrid=radial_grid,          # Radial grid used to construct atomic grids over each carbon, and hydrogen.\n",
    "#     size=50,                    # The angular degree of the atomic grid over each carbon, and hydrogen.\n",
    "#     aim_weights=BeckeWeights(), # Atom-in molecular weights: Becke weights\n",
    "# )"
   ]
  },
  {
   "cell_type": "markdown",
   "metadata": {
    "collapsed": false
   },
   "source": [
    "### Integration\n",
    "\n",
    "#### Example: Electron Density\n",
    "\n",
    "This example shows how to use molecular grids to integrate the electron density $\\rho(\\textbf{r})$. This should equal to the number of electrons 16 of Formaldehyde. This is calculated using the [gbasis](https://github.com/theochem/gbasis) package\n"
   ]
  },
  {
   "cell_type": "code",
   "execution_count": 4,
   "metadata": {
    "ExecuteTime": {
     "end_time": "2023-05-18T16:48:05.389647782Z",
     "start_time": "2023-05-18T16:48:04.376467773Z"
    },
    "collapsed": false
   },
   "outputs": [
    {
     "name": "stdout",
     "output_type": "stream",
     "text": [
      "Integration of the electron density:  15.999988.\n"
     ]
    }
   ],
   "source": [
    "from gbasis.wrappers import from_iodata\n",
    "from gbasis.evals.density import evaluate_density\n",
    "\n",
    "# Construct molecular basis from wave-function information read by IOData\n",
    "basis = from_iodata(mol)\n",
    "\n",
    "# Compute the electron density\n",
    "rdm = mol.one_rdms[\"scf\"]\n",
    "dens = evaluate_density(rdm, basis, mol_grid.points)\n",
    "\n",
    "# Integrate using the molecular grid\n",
    "print(f\"Integration of the electron density: {mol_grid.integrate(dens): .6f}.\")"
   ]
  },
  {
   "cell_type": "markdown",
   "metadata": {},
   "source": [
    "### Local Properties\n",
    "\n",
    "#### Example: Atomic charges from molecular electron density\n",
    "\n",
    "This example shows how to extract atomic grids from a molecular grid and integrate the electron density to get atomic charges.\n"
   ]
  },
  {
   "cell_type": "code",
   "execution_count": 5,
   "metadata": {},
   "outputs": [
    {
     "name": "stdout",
     "output_type": "stream",
     "text": [
      "16448 points in molecular grid\n",
      "4980 points in atomic grid of atom 1\n",
      "\n",
      "Shape of molecular electron density : (16448,)\n",
      "Shape of atomic density of Oxygen   : (4980,)\n",
      "\n",
      "Integration of the Oxygen atom electron density on the Oxygen grid:  6.213951\n",
      "Atomic charge of the Oxygen atom (q = Z - N): -0.213951\n"
     ]
    }
   ],
   "source": [
    "# Extract the atomic grid of the Oxygen atom\n",
    "atom_index = 1\n",
    "o_grid = mol_grid.get_atomic_grid(atom_index)\n",
    "print(f\"{len(mol_grid.points)} points in molecular grid\")\n",
    "print(f\"{len(o_grid.points)} points in atomic grid of atom {atom_index}\\n\")\n",
    "\n",
    "# partition electron density into atomic electron densities (each point is assigned to an atom)\n",
    "# 1. Compute weighted electron density by Becke integration weights\n",
    "w_dens = dens * mol_grid.aim_weights\n",
    "# 2. Get weighted electron density of points assigned to Oxygen atom\n",
    "o_idcs = np.arange(mol_grid.indices[atom_index], mol_grid.indices[atom_index + 1])\n",
    "o_dens = w_dens[o_idcs]\n",
    "print(f\"Shape of molecular electron density : {dens.shape}\")\n",
    "print(f\"Shape of atomic density of Oxygen   : {o_dens.shape}\\n\")\n",
    "\n",
    "# Integrate using the atomic grid\n",
    "o_charge = o_grid.integrate(o_dens)\n",
    "\n",
    "print(f\"Integration of the Oxygen atom electron density on the Oxygen grid: {o_charge: .6f}\")\n",
    "print(f\"Atomic charge of the Oxygen atom (q = Z - N): {mol.atnums[1] - o_charge: .6f}\")"
   ]
  },
  {
   "cell_type": "markdown",
   "metadata": {
    "collapsed": false
   },
   "source": [
    "### Interpolation\n",
    "\n",
    "#### Example: Electron Density\n",
    "\n",
    "This example shows how to interpolate any function using molecular grids. The electron density is used again here as the example.\n"
   ]
  },
  {
   "cell_type": "code",
   "execution_count": 6,
   "metadata": {
    "ExecuteTime": {
     "end_time": "2023-05-18T16:48:06.926137896Z",
     "start_time": "2023-05-18T16:48:06.253765458Z"
    },
    "collapsed": false
   },
   "outputs": [
    {
     "name": "stdout",
     "output_type": "stream",
     "text": [
      "Max Error= 0.000438; Mean Error= 0.000014; Std Dev Error= 0.000054\n"
     ]
    }
   ],
   "source": [
    "# Construct interpolate function\n",
    "interpolate = mol_grid.interpolate(func_vals=dens)\n",
    "\n",
    "# Construct 100 random-set of points between [-5, 5]^3\n",
    "random_grid = np.random.uniform(-5, 5, size=(100, 3))\n",
    "\n",
    "# Evaluate using the interpolate\n",
    "inter_vals = interpolate(random_grid)\n",
    "actual_vals = evaluate_density(rdm, basis, random_grid)\n",
    "\n",
    "# Compute the interpolation error\n",
    "err = np.abs(inter_vals - actual_vals)\n",
    "print(\n",
    "    f\"Max Error={np.max(err): .6f}; Mean Error={np.mean(err): .6f}; Std Dev Error={np.std(err): .6f}\"\n",
    ")"
   ]
  },
  {
   "cell_type": "markdown",
   "metadata": {
    "collapsed": false
   },
   "source": [
    "### Derivative Interpolation\n",
    "\n",
    "#### Example: Weizsacker Kinetic Energy Density\n",
    "\n",
    "The Weizsacker kinetic energy density is defined as:\n",
    "$$\\tau_W (\\textbf{r}) = \\frac{1}{8} \\frac{|\\nabla \\rho(\\textbf{r}) |^2}{\\rho(\\textbf{r})}. $$\n",
    "\n",
    "This example will show how to interpolate the Weizsacker kinetic energy density using the interpolation of the electron density $\\rho(\\textbf{r})$.\n"
   ]
  },
  {
   "cell_type": "code",
   "execution_count": 7,
   "metadata": {
    "ExecuteTime": {
     "end_time": "2023-05-18T16:48:09.998527980Z",
     "start_time": "2023-05-18T16:48:08.697737663Z"
    },
    "collapsed": false
   },
   "outputs": [
    {
     "name": "stdout",
     "output_type": "stream",
     "text": [
      "Max Error= 0.003902; Mean Error= 0.000068; Std Dev Error= 0.000395\n"
     ]
    }
   ],
   "source": [
    "from gbasis.evals.density import evaluate_density_gradient\n",
    "\n",
    "# Computing the Weizsacker kinetic energy density\n",
    "actual_deriv = evaluate_density_gradient(rdm, basis, random_grid)\n",
    "actual_dens = evaluate_density(rdm, basis, random_grid)\n",
    "norm_squared = np.linalg.norm(actual_deriv, axis=1) ** 2.0  # Take the norm-square of the gradient\n",
    "kinetic_dens = (1.0 / 8.0) * norm_squared / actual_dens\n",
    "\n",
    "# Evaluate the interpolation of the derivative and the actual derivative.\n",
    "dens_interp = interpolate(random_grid, deriv=0)\n",
    "deriv_interp = interpolate(random_grid, deriv=1)\n",
    "deriv_norm = np.linalg.norm(deriv_interp, axis=1) ** 2.0\n",
    "kinetic_interp = (1.0 / 8.0) * deriv_norm / dens_interp\n",
    "\n",
    "# Compute the interpolation error\n",
    "err = np.abs(kinetic_dens - kinetic_interp)\n",
    "print(\n",
    "    f\"Max Error={np.max(err): .6f}; Mean Error={np.mean(err): .6f}; Std Dev Error={np.std(err): .6f}\"\n",
    ")"
   ]
  },
  {
   "cell_type": "markdown",
   "metadata": {
    "collapsed": false
   },
   "source": [
    "### Solving Poisson Equation\n",
    "\n",
    "#### Example: Electrostatic Potential\n",
    "\n",
    "The Poisson equation is defined as:\n",
    "$$\\nabla^2 V(\\textbf{r}) = - 4\\pi \\rho(\\textbf{r}),$$\n",
    "\n",
    "where $\\nabla^2$ is the Laplacian operator, $V$ is the Couloumb potential and $\\rho$ is the electron density. This example will show how to use molecular grids to solve the Poisson equation for a given electron density. The solution is equivalent to the integral:\n",
    "$$V(\\textbf{r}_1) = \\int \\frac{\\rho(\\textbf{r}_2)}{| \\textbf{r}_1 - \\textbf{r}_2 | } d\\textbf{r}_2.$$\n",
    "\n",
    "This can be used to calculate the electrostatic potential of a molecule with coordinates $\\{R_A\\}$ and charge $\\{Z_A\\}$:\n",
    "$$\\Phi(\\textbf{r}_1) = -\\int \\frac{\\rho(\\textbf{r}_2)}{| \\textbf{r}_1 - \\textbf{r}_2 | } d\\textbf{r}_2 + \\sum_{A} \\frac{Z_A}{|\\textbf{r}_1 - R_A|}$$\n"
   ]
  },
  {
   "cell_type": "code",
   "execution_count": 8,
   "metadata": {
    "ExecuteTime": {
     "end_time": "2023-05-18T16:48:35.841955440Z",
     "start_time": "2023-05-18T16:48:12.316718019Z"
    },
    "collapsed": false
   },
   "outputs": [
    {
     "name": "stdout",
     "output_type": "stream",
     "text": [
      "Max Error= 0.021631; Mean Error= 0.003719; Std Dev Error= 0.003231\n"
     ]
    }
   ],
   "source": [
    "from grid.rtransform import InverseRTransform, BeckeRTransform\n",
    "from grid.poisson import solve_poisson_bvp\n",
    "from gbasis.evals.electrostatic_potential import electrostatic_potential\n",
    "\n",
    "# Compute the electron density\n",
    "dens = evaluate_density(rdm, basis, mol_grid.points)\n",
    "\n",
    "# Define a transformation from [0, \\infty) to finite interval [-1, 1]\n",
    "inverse_transf = InverseRTransform(BeckeRTransform(1e-30, R=1.5))\n",
    "\n",
    "potential = solve_poisson_bvp(\n",
    "    molgrid=mol_grid,                      # Provide the molecular density\n",
    "    func_vals=dens,                        # The charge distribution\n",
    "    transform=inverse_transf,              # Transformation to finite-interval\n",
    "    include_origin=False,                  # Don't include the origin r=0\n",
    "    remove_large_pts=10.0,                 # Remove points with radius larger than 10\n",
    ")\n",
    "\n",
    "# Calculate electrostatic potential with nuclear charges all set to zero.\n",
    "desired_potential = -electrostatic_potential(\n",
    "    basis,\n",
    "    rdm,\n",
    "    random_grid,\n",
    "    nuclear_coords=mol.atcoords,\n",
    "    nuclear_charges=np.array([0, 0, 0, 0]),\n",
    ")\n",
    "actual_potential = potential(random_grid)\n",
    "\n",
    "# Compute the interpolation error\n",
    "err = np.abs(desired_potential - actual_potential)\n",
    "print(\n",
    "    f\"Max Error={np.max(err): .6f}; Mean Error={np.mean(err): .6f}; Std Dev Error={np.std(err): .6f}\"\n",
    ")"
   ]
  }
 ],
 "metadata": {
  "kernelspec": {
   "display_name": "grid_env",
   "language": "python",
   "name": "python3"
  },
  "language_info": {
   "codemirror_mode": {
    "name": "ipython",
    "version": 3
   },
   "file_extension": ".py",
   "mimetype": "text/x-python",
   "name": "python",
   "nbconvert_exporter": "python",
   "pygments_lexer": "ipython3",
   "version": "3.10.12"
  }
 },
 "nbformat": 4,
 "nbformat_minor": 0
}
