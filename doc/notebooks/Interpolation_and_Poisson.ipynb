{
  "cells": [
    {
      "cell_type": "markdown",
      "source": [
        "### Interpolation and Solving Poisson's Equation\n",
        "\n",
        "#### Details\n",
        "It is known based on the properties of the real spherical harmonics $Y_{lm}$ that any $L_2$ function $f : \\mathbb{R}^3 \\rightarrow \\mathbb{R}$ can be decomposed as\n",
        "\n",
        "$$\n",
        "    f(r, \\theta, \\phi) = \\sum_{l=0}^\\infty \\sum_{m=-l}^l w_{lm}(r) Y_{lm}(\\theta, \\phi),\n",
        "$$\n",
        "\n",
        "where the unknown $w_{lm}$ is a function of the radial component and is found as follows. For a fixed $r$, the radial component $w_{lm}$ is computed as the integral\n",
        "$$\n",
        "w_{lm}(r) = \\int \\int f(r, \\theta, \\phi) Y_{lm}(\\theta, \\phi) \\sin(\\phi) d\\theta d\\phi\n",
        "$$\n",
        "over various values of $r$ and then interpolated $\\tilde{w}_{lm}$ using a cubic spline. This integral can be done using the [angular grid](../pyapi/grid.angular.rst) module. The interpolation of $f$ is simply then\n",
        "$$\n",
        "    f(r, \\theta, \\phi) \\approx \\sum_{l=0}^{L_{max}} \\sum_{m=-l}^l \\tilde{w}_{lm}(r) Y_{lm}(\\theta, \\phi),\n",
        "$$\n",
        "\n",
        "where $L_{max}$ is the maximum chosen degree $l$ of the real spherical harmonics.\n",
        "\n",
        "\n",
        "#### Example: Unit-charge distribution\n",
        "This example tries to interpolate the unit-charge distribution given by $f(r, \\theta, \\phi) = \\bigg( \\frac{\\alpha}{\\pi} \\bigg)^{1.5} e^{-\\alpha r_A^2}$, where $\\alpha = 0.25$ and $r_A$ is the radius centered at the coordinate $[0, 1, 0]$.  Since, this function does not depend on the angles, then $w_{lm} = 0$ when $l > 0$."
      ],
      "metadata": {
        "collapsed": false
      }
    },
    {
      "cell_type": "code",
      "execution_count": 1,
      "metadata": {
        "collapsed": true,
        "ExecuteTime": {
          "end_time": "2023-05-19T10:26:56.405456106Z",
          "start_time": "2023-05-19T10:26:56.109868583Z"
        }
      },
      "outputs": [],
      "source": [
        "import numpy as np\n",
        "\n",
        "center = [0, 1, 0]\n",
        "\n",
        "def charge_distribution(x, alpha=0.25):\n",
        "    r = np.linalg.norm(x - center, axis=1)\n",
        "    return (alpha / np.pi) ** (3.0 / 2.0) * np.exp(-alpha * r**2.0)"
      ]
    },
    {
      "cell_type": "code",
      "execution_count": 5,
      "outputs": [],
      "source": [
        "# Construct Atomic Grid\n",
        "from grid.onedgrid import GaussLegendre\n",
        "from grid.rtransform import BeckeRTransform\n",
        "from grid.atomgrid import AtomGrid\n",
        "\n",
        "oned = GaussLegendre(npoints=100)\n",
        "btf = BeckeRTransform(rmin=1e-30, R=1.5)\n",
        "radial = btf.transform_1d_grid(oned)\n",
        "degree = 29\n",
        "atgrid = AtomGrid.from_pruned(radial, 1, sectors_r=[], sectors_degree=[degree], center=center)"
      ],
      "metadata": {
        "collapsed": false,
        "ExecuteTime": {
          "end_time": "2023-05-19T10:27:44.217077270Z",
          "start_time": "2023-05-19T10:27:44.161486850Z"
        }
      }
    },
    {
      "cell_type": "code",
      "execution_count": 3,
      "outputs": [
        {
          "name": "stdout",
          "output_type": "stream",
          "text": [
            "Error difference between interpolation and true:\n",
            "[2.03885450e-11 5.64345203e-11 1.09432265e-10 6.12496338e-11\n",
            " 9.15886811e-12 5.53942031e-11 1.82077388e-10 7.62214354e-11\n",
            " 1.08020218e-10 1.26516332e-11 6.38427089e-11 1.36835335e-12\n",
            " 2.29083766e-12 1.07915340e-10 1.61463135e-11 8.81852612e-11\n",
            " 4.39340925e-12 6.39232084e-10 7.09602863e-12 7.00513605e-12]\n"
          ]
        }
      ],
      "source": [
        "# Construct the interpolation of the charge distribution.\n",
        "density = charge_distribution(atgrid.points)   # evaluate the charge distribution on the atomic grid points.\n",
        "interpolate_func = atgrid.interpolate(density)\n",
        "\n",
        "# Compute the density form the interpolation on random points\n",
        "random_pts = np.vstack(\n",
        "    (\n",
        "        np.random.uniform(-1., 1.0, size=20),\n",
        "        np.random.uniform(0.5, 1.5, size=20),\n",
        "        np.random.uniform(-1.0, 1.0, size=20)\n",
        "    )\n",
        ").T\n",
        "interpolate = interpolate_func(random_pts)\n",
        "true = charge_distribution(random_pts)\n",
        "\n",
        "print(\"Error difference between interpolation and true:\")\n",
        "print(np.abs(interpolate - true))\n",
        "assert np.all(np.abs(interpolate - true) < 1e-6)\n",
        "\n",
        "\n",
        "# First derivative wrt to Cartesian coordinates (x, y, z) can also be calculated\n",
        "derivative = interpolate_func(random_pts, deriv=1)\n",
        "# First derivative wrt to Spherical coordinates (r, \\theta, \\phi)\n",
        "derivative = interpolate_func(random_pts, deriv=1, deriv_spherical=True)\n",
        "# Higher order derivative wrt to r can be calculated\n",
        "sec_deriv = interpolate_func(random_pts, deriv=2, only_radial_deriv=True)"
      ],
      "metadata": {
        "collapsed": false,
        "ExecuteTime": {
          "end_time": "2023-05-19T10:27:07.105912750Z",
          "start_time": "2023-05-19T10:27:06.132056758Z"
        }
      }
    },
    {
      "cell_type": "markdown",
      "source": [
        "#### Solving Poisson Equation\n",
        "\n",
        "The Poisson equation is defined as $\\nabla^2 V = - 4\\pi f(\\vec{\\textbf{r}})$, where $V$ is the unknown potential, $\\nabla^2$ is the Laplacian and $f$ is the charge distribution.\n",
        "It is well-known that the solution to this is given by $V(\\vec{\\textbf{r}}) = \\int \\frac{f(\\vec{\\textbf{r}}^\\prime)}{|\\vec{\\textbf{r}} - \\vec{\\textbf{r}}^\\prime| } d\\vec{\\textbf{r}}^\\prime$.  For the unit-charge distribution given above, the solution is given by $V(r, \\theta, \\phi) =  \\frac{\\text{erf} \\bigg[ \\sqrt{\\alpha} r_A  \\bigg]}{r_A},$ where ERF is the error function. Grid offers two methods of solving the Poisson equation over an atomic grid.  The recommended method is the `solve_poisson_bvp` and is used in this example."
      ],
      "metadata": {
        "collapsed": false
      }
    },
    {
      "cell_type": "code",
      "execution_count": 7,
      "outputs": [
        {
          "name": "stdout",
          "output_type": "stream",
          "text": [
            "0.10495702872626828 0.030589794409081324 0.02550959949900786\n"
          ]
        }
      ],
      "source": [
        "from grid.rtransform import InverseRTransform\n",
        "from grid.poisson import solve_poisson_bvp\n",
        "from scipy.special import erf\n",
        "\n",
        "\n",
        "def actual_potential(x, alpha=0.25):\n",
        "    r_PC = np.linalg.norm(x, axis=1)\n",
        "    desired = erf(np.sqrt(alpha) * r_PC) / r_PC\n",
        "    desired[r_PC == 0.0] = 0.0\n",
        "    return desired\n",
        "\n",
        "#Set the charge distribution to be unit-charge density and evaluate on atomic grid points.\n",
        "func_vals = charge_distribution(atgrid.points)\n",
        "\n",
        "# Solve for the potential as an initial value problem and evaluate it over the atomic grid.\n",
        "potential = solve_poisson_bvp(\n",
        "        atgrid,\n",
        "        func_vals,\n",
        "        InverseRTransform(btf),\n",
        "        remove_large_pts=10.0,\n",
        "        include_origin=True,\n",
        ")\n",
        "potential_values = potential(atgrid.points)\n",
        "\n",
        "\n",
        "err = np.abs(actual_potential(atgrid.points) - potential_values)\n",
        "print(np.max(err), np.mean(err), np.std(err))\n"
      ],
      "metadata": {
        "collapsed": false,
        "ExecuteTime": {
          "end_time": "2023-05-19T10:28:35.810454250Z",
          "start_time": "2023-05-19T10:27:57.265664738Z"
        }
      }
    }
  ],
  "metadata": {
    "kernelspec": {
      "display_name": "Python 3",
      "language": "python",
      "name": "python3"
    },
    "language_info": {
      "codemirror_mode": {
        "name": "ipython",
        "version": 2
      },
      "file_extension": ".py",
      "mimetype": "text/x-python",
      "name": "python",
      "nbconvert_exporter": "python",
      "pygments_lexer": "ipython2",
      "version": "2.7.6"
    }
  },
  "nbformat": 4,
  "nbformat_minor": 0
}
