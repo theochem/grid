{
 "cells": [
  {
   "cell_type": "markdown",
   "metadata": {},
   "source": [
    "[![Open In Colab](https://colab.research.google.com/assets/colab-badge.svg)](https://colab.research.google.com/github/theochem/grid/blob/master/examples/Multipole_Moments.ipynb)"
   ]
  },
  {
   "cell_type": "markdown",
   "metadata": {
    "collapsed": false
   },
   "source": [
    "## Multipole Moments\n",
    "\n",
    "Every grid class has the ability to compute the multipole moment integral of a function over various centers.\n",
    "It can compute the following types:\n",
    "$$\n",
    "\\begin{align*}\n",
    "    m_{n_x, n_y, n_z} &= \\int (x - X_c)^{n_x} (y - Y_c)^{n_y} (z - Z_c)^{n_z} f(r) dr \\quad &\\text{Cartesian moments}\\\\\n",
    "    m_{lm} &= \\int | \\textbf{r} - \\textbf{R}_c|^l S_{l}^m(\\theta, \\phi) f(\\textbf{r}) d\\textbf{r} \\quad  &\\text{Spherical moments} \\\\\n",
    "    m_n &= \\int | \\textbf{r} - \\textbf{R}_c|^{n} f(\\textbf{r}) d\\textbf{r} \\quad  &\\text{Radial moments}\\\\\n",
    "    m_{nlm} &= \\int | \\textbf{r} - \\textbf{R}_c|^{n+1} S_l^m(\\theta, \\phi) f(\\textbf{r}) d\\textbf{r} \\quad &\\text{Radial with spherical moments}\n",
    "\\end{align*}\n",
    "$$\n",
    "for some function $f : \\mathbb{R}^3\\rightarrow \\mathbb{R}$, where $S_l^m$ is the regular, real solid harmonics, $(n_x, n_y, n_z)$ are the Cartesian orders over some center $\\textbf{R}_c = (X_c, Y_c, Z_c)$ and $(l, m)$ are the angular order and degree.\n",
    "\n",
    "\n",
    "This example illustrates how to compute the dipole moment of water.   This is defined as the observable acting on a wavefunction $\\Psi$: $\\vec{\\mu} = \\int \\Psi \\hat{\\mu} \\Psi \\vec{r}$ which results in the calculation of the dipole moment as\n",
    "\n",
    "$$\n",
    "    \\vec{\\mu} = \\sum_{i=1}^{N_{atoms}} Z_i (\\vec{R_i} - \\vec{R_c}) -\n",
    "    \\int (\\vec{r} - \\vec{R_c}) \\rho(\\vec{r}) dr,\n",
    "$$\n",
    "\n",
    "where $N_{atoms}$ is the number of atoms, $Z_i$ is the atomic charge of the ith atom, $\\vec{R_i}$ is the ith coordinate of the atom, $\\vec{R_c}$ is the center of the molecule and $\\rho$ is the electron density of the molecule.\n",
    "\n"
   ]
  },
  {
   "cell_type": "code",
   "execution_count": null,
   "metadata": {},
   "outputs": [],
   "source": [
    "# # Install packages in Google Colab\n",
    "# ! pip install qc-iodata\n",
    "# ! pip install qc-grid\n",
    "# ! pip install qc-gbasis\n",
    "\n",
    "# # Download the example files\n",
    "# from urllib.request import urlretrieve\n",
    "# urlretrieve(\"https://raw.githubusercontent.com/theochem/grid/refs/heads/master/examples/ch2o_q%2B0.fchk\",\"ch2o_q+0.fchk\")"
   ]
  },
  {
   "cell_type": "markdown",
   "metadata": {
    "collapsed": false
   },
   "source": [
    "IOData is used to first read the wavefunction information of Formaldehyde."
   ]
  },
  {
   "cell_type": "code",
   "execution_count": 4,
   "metadata": {
    "ExecuteTime": {
     "end_time": "2024-01-15T20:42:35.436016745Z",
     "start_time": "2024-01-15T20:42:35.241682791Z"
    },
    "collapsed": true
   },
   "outputs": [
    {
     "name": "stdout",
     "output_type": "stream",
     "text": [
      "Dipole Moments  {(1, 'c'): array([-9.39793529e-01,  2.44832724e-08, -2.02253053e-07])}\n"
     ]
    }
   ],
   "source": [
    "from iodata import load_one\n",
    "\n",
    "mol = load_one(\"./ch2o_q+0.fchk\")\n",
    "\n",
    "print(\"Dipole Moments \", mol.moments)"
   ]
  },
  {
   "cell_type": "markdown",
   "metadata": {
    "collapsed": false
   },
   "source": [
    "In order to compute the moment integral, a molecular grid class is constructed."
   ]
  },
  {
   "cell_type": "code",
   "execution_count": 5,
   "metadata": {
    "ExecuteTime": {
     "end_time": "2024-01-15T20:42:35.948897361Z",
     "start_time": "2024-01-15T20:42:35.438896737Z"
    },
    "collapsed": false
   },
   "outputs": [],
   "source": [
    "from grid.becke import BeckeWeights\n",
    "from grid.molgrid import MolGrid\n",
    "from grid.onedgrid import GaussLegendre\n",
    "from grid.rtransform import BeckeRTransform\n",
    "\n",
    "# Construct a radial grid\n",
    "oned_grid = GaussLegendre(npoints=150)\n",
    "radial_grid = BeckeRTransform(0.0, R=1.5).transform_1d_grid(oned_grid)  #BeckeRTransform(0.0, R=2.0).transform_1d_grid(oned_grid)\n",
    "\n",
    "# Construct Molecular grid with angular degree of 50 for each atom.\n",
    "mol_grid = MolGrid.from_size(\n",
    "    atnums=mol.atnums,          # The atomic numbers of Formaldehyde\n",
    "    atcoords=mol.atcoords,      # The atomic coordinates of Formaldehyde\n",
    "    rgrid=radial_grid,          # Radial grid used to construct atomic grids over each carbon, and hydrogen.\n",
    "    size=130,                    # The angular degree of the atomic grid over each carbon, and hydrogen.\n",
    "    aim_weights=BeckeWeights(), # Atom-in molecular weights: Becke weights,\n",
    ")"
   ]
  },
  {
   "cell_type": "markdown",
   "metadata": {
    "collapsed": false
   },
   "source": [
    "The dipole moment can then be calculated."
   ]
  },
  {
   "cell_type": "code",
   "execution_count": 6,
   "metadata": {
    "ExecuteTime": {
     "end_time": "2024-01-15T20:42:37.930341180Z",
     "start_time": "2024-01-15T20:42:35.952444556Z"
    },
    "collapsed": false
   },
   "outputs": [
    {
     "name": "stdout",
     "output_type": "stream",
     "text": [
      "Dipole moment calculated [-9.39751887e-01  6.42314269e-05  4.02806905e-05]\n",
      "Dipole moment true [-9.39793529e-01  2.44832724e-08 -2.02253053e-07]\n",
      "Mean error 4.877715321240814e-05 with maximum error 6.42069436543974e-05\n"
     ]
    }
   ],
   "source": [
    "import numpy as np\n",
    "from gbasis.wrappers import from_iodata\n",
    "from gbasis.evals.density import evaluate_density\n",
    "\n",
    "from grid.utils import dipole_moment_of_molecule\n",
    "\n",
    "# Construct molecular basis from wave-function information read by IOData\n",
    "basis = from_iodata(mol)\n",
    "\n",
    "# Compute the electron density\n",
    "rdm = mol.one_rdms[\"scf\"]\n",
    "electron_density = evaluate_density(rdm, basis, mol_grid.points)\n",
    "\n",
    "true = dipole_moment_of_molecule(mol_grid, electron_density, mol.atcoords, mol.atnums)\n",
    "desired = mol.moments[(1, \"c\")]\n",
    "print(f\"Dipole moment calculated {true}\")\n",
    "print(f\"Dipole moment true {desired}\")\n",
    "\n",
    "err = np.abs(true - desired)\n",
    "print(f\"Mean error {np.mean(err)} with maximum error {np.max(err)}\")"
   ]
  }
 ],
 "metadata": {
  "kernelspec": {
   "display_name": "Python 3",
   "language": "python",
   "name": "python3"
  },
  "language_info": {
   "codemirror_mode": {
    "name": "ipython",
    "version": 3
   },
   "file_extension": ".py",
   "mimetype": "text/x-python",
   "name": "python",
   "nbconvert_exporter": "python",
   "pygments_lexer": "ipython3",
   "version": "3.12.1"
  }
 },
 "nbformat": 4,
 "nbformat_minor": 0
}
