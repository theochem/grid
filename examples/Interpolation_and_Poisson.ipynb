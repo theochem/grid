{
  "cells": [
    {
      "cell_type": "markdown",
      "metadata": {},
      "source": [
        "[![Open In Colab](https://colab.research.google.com/assets/colab-badge.svg)](https://colab.research.google.com/github/theochem/grid/blob/master/examples/Interpolation_and_Poisson.ipynb)"
      ]
    },
    {
      "cell_type": "markdown",
      "metadata": {
        "collapsed": false
      },
      "source": [
        "### Interpolation and Solving Poisson's Equation\n",
        "\n",
        "#### Details\n",
        "It is known based on the properties of the real spherical harmonics $Y_{lm}$ that any $L_2$ function $f : \\mathbb{R}^3 \\rightarrow \\mathbb{R}$ can be decomposed as\n",
        "\n",
        "$$\n",
        "    f(r, \\theta, \\phi) = \\sum_{l=0}^\\infty \\sum_{m=-l}^l w_{lm}(r) Y_{lm}(\\theta, \\phi),\n",
        "$$\n",
        "\n",
        "where the unknown $w_{lm}$ is a function of the radial component and is found as follows. For a fixed $r$, the radial component $w_{lm}$ is computed as the integral\n",
        "$$\n",
        "w_{lm}(r) = \\int \\int f(r, \\theta, \\phi) Y_{lm}(\\theta, \\phi) \\sin(\\phi) d\\theta d\\phi\n",
        "$$\n",
        "over various values of $r$ and then interpolated $\\tilde{w}_{lm}$ using a cubic spline. This integral can be done using the [angular grid](../pyapi/grid.angular.rst) module. The interpolation of $f$ is simply then\n",
        "$$\n",
        "    f(r, \\theta, \\phi) \\approx \\sum_{l=0}^{L_{max}} \\sum_{m=-l}^l \\tilde{w}_{lm}(r) Y_{lm}(\\theta, \\phi),\n",
        "$$\n",
        "\n",
        "where $L_{max}$ is the maximum chosen degree $l$ of the real spherical harmonics.\n",
        "\n",
        "\n",
        "#### Example: Unit-charge distribution\n",
        "This example tries to interpolate the unit-charge distribution given by $f(r, \\theta, \\phi) = \\bigg( \\frac{\\alpha}{\\pi} \\bigg)^{1.5} e^{-\\alpha r_A^2}$, where $\\alpha = 0.25$ and $r_A$ is the radius centered at the coordinate $[0, 1, 0]$.  Since, this function does not depend on the angles, then $w_{lm} = 0$ when $l > 0$."
      ]
    },
    {
      "cell_type": "code",
      "execution_count": 5,
      "metadata": {
        "ExecuteTime": {
          "end_time": "2024-01-08T20:58:10.192004233Z",
          "start_time": "2024-01-08T20:58:10.094718751Z"
        },
        "collapsed": true
      },
      "outputs": [],
      "source": [
        "import numpy as np\n",
        "\n",
        "center = [0, 1, 0]\n",
        "\n",
        "def charge_distribution(x, alpha=0.25):\n",
        "    r = np.linalg.norm(x - center, axis=1)\n",
        "    return (alpha / np.pi) ** (3.0 / 2.0) * np.exp(-alpha * r**2.0)"
      ]
    },
    {
      "cell_type": "code",
      "execution_count": 6,
      "metadata": {
        "ExecuteTime": {
          "end_time": "2024-01-08T20:58:10.461254804Z",
          "start_time": "2024-01-08T20:58:10.191879006Z"
        },
        "collapsed": false
      },
      "outputs": [],
      "source": [
        "# Construct Atomic Grid\n",
        "from grid.onedgrid import GaussLegendre\n",
        "from grid.rtransform import BeckeRTransform\n",
        "from grid.atomgrid import AtomGrid\n",
        "\n",
        "oned = GaussLegendre(npoints=100)\n",
        "btf = BeckeRTransform(rmin=1e-30, R=1.5)\n",
        "radial = btf.transform_1d_grid(oned)\n",
        "degree = 29\n",
        "atgrid = AtomGrid.from_pruned(radial, 1, r_sectors=[], d_sectors=[degree], center=center)"
      ]
    },
    {
      "cell_type": "code",
      "execution_count": 7,
      "metadata": {
        "ExecuteTime": {
          "end_time": "2024-01-08T20:58:10.840072685Z",
          "start_time": "2024-01-08T20:58:10.463969456Z"
        },
        "collapsed": false
      },
      "outputs": [
        {
          "name": "stdout",
          "output_type": "stream",
          "text": [
            "Error difference between interpolation and true:\n",
            "[5.50204594e-11 4.97960712e-11 9.96328462e-11 1.50277207e-11\n",
            " 3.25926654e-11 2.01591117e-11 3.26607444e-11 8.44455422e-11\n",
            " 4.00808614e-11 5.06480266e-10 7.52775412e-11 3.48676058e-11\n",
            " 4.13636728e-11 1.11618694e-11 4.14768677e-11 4.12894238e-11\n",
            " 7.26674645e-11 8.43535809e-11 5.25728962e-11 6.84093102e-11]\n"
          ]
        }
      ],
      "source": [
        "# Construct the interpolation of the charge distribution.\n",
        "density = charge_distribution(atgrid.points)   # evaluate the charge distribution on the atomic grid points.\n",
        "interpolate_func = atgrid.interpolate(density)\n",
        "\n",
        "# Compute the density form the interpolation on random points\n",
        "random_pts = np.vstack(\n",
        "    (\n",
        "        np.random.uniform(-1., 1.0, size=20),\n",
        "        np.random.uniform(0.5, 1.5, size=20),\n",
        "        np.random.uniform(-1.0, 1.0, size=20)\n",
        "    )\n",
        ").T\n",
        "interpolate = interpolate_func(random_pts)\n",
        "true = charge_distribution(random_pts)\n",
        "\n",
        "print(\"Error difference between interpolation and true:\")\n",
        "print(np.abs(interpolate - true))\n",
        "assert np.all(np.abs(interpolate - true) < 1e-6)\n",
        "\n",
        "\n",
        "# First derivative wrt to Cartesian coordinates (x, y, z) can also be calculated\n",
        "derivative = interpolate_func(random_pts, deriv=1)\n",
        "# First derivative wrt to Spherical coordinates (r, \\theta, \\phi)\n",
        "derivative = interpolate_func(random_pts, deriv=1, deriv_spherical=True)\n",
        "# Higher order derivative wrt to r can be calculated\n",
        "sec_deriv = interpolate_func(random_pts, deriv=2, only_radial_deriv=True)"
      ]
    },
    {
      "cell_type": "markdown",
      "metadata": {
        "collapsed": false
      },
      "source": [
        "#### Solving Poisson Equation\n",
        "\n",
        "The Poisson equation is defined as $\\nabla^2 V = - 4\\pi f(\\vec{\\textbf{r}})$, where $V$ is the unknown potential, $\\nabla^2$ is the Laplacian and $f$ is the charge distribution.\n",
        "It is well-known that the solution to this is given by $V(\\vec{\\textbf{r}}) = \\int \\frac{f(\\vec{\\textbf{r}}^\\prime)}{|\\vec{\\textbf{r}} - \\vec{\\textbf{r}}^\\prime| } d\\vec{\\textbf{r}}^\\prime$.  For the unit-charge distribution given above, the solution is given by $V(r, \\theta, \\phi) =  \\frac{\\text{erf} \\bigg[ \\sqrt{\\alpha} r_A  \\bigg]}{r_A},$ where ERF is the error function. Grid offers two methods of solving the Poisson equation over an atomic grid.  The recommended method is the `solve_poisson_bvp` and is used in this example."
      ]
    },
    {
      "cell_type": "code",
      "execution_count": 8,
      "metadata": {
        "ExecuteTime": {
          "end_time": "2024-01-08T20:58:17.855028023Z",
          "start_time": "2024-01-08T20:58:10.842833895Z"
        },
        "collapsed": false
      },
      "outputs": [
        {
          "name": "stdout",
          "output_type": "stream",
          "text": [
            "The maximum error: 1.4653770128456663e-06\n",
            "The mean error: 1.1070838082577226e-06\n",
            "The standard dev: 4.600048234819135e-07\n"
          ]
        }
      ],
      "source": [
        "from grid.rtransform import InverseRTransform\n",
        "from grid.poisson import solve_poisson_bvp\n",
        "from scipy.special import erf\n",
        "\n",
        "\n",
        "def actual_potential(x, alpha=0.25):\n",
        "    r_PC = np.linalg.norm(x - center, axis=1)\n",
        "    desired = erf(np.sqrt(alpha) * r_PC) / r_PC\n",
        "    desired[r_PC == 0.0] = 0.0\n",
        "    return desired\n",
        "\n",
        "#Set the charge distribution to be unit-charge density and evaluate on atomic grid points.\n",
        "func_vals = charge_distribution(atgrid.points)\n",
        "\n",
        "# Solve for the potential as an initial value problem and evaluate it over the atomic grid.\n",
        "potential = solve_poisson_bvp(\n",
        "        atgrid,\n",
        "        func_vals,\n",
        "        InverseRTransform(btf),\n",
        "        remove_large_pts=10.0,\n",
        "        include_origin=True,\n",
        ")\n",
        "potential_values = potential(atgrid.points)\n",
        "\n",
        "\n",
        "err = np.abs(actual_potential(atgrid.points) - potential_values)\n",
        "print(f\"The maximum error: {np.max(err)}\")\n",
        "print(f\"The mean error: {np.mean(err)}\")\n",
        "print(f\"The standard dev: {np.std(err)}\")\n"
      ]
    }
  ],
  "metadata": {
    "kernelspec": {
      "display_name": "Python 3",
      "language": "python",
      "name": "python3"
    },
    "language_info": {
      "codemirror_mode": {
        "name": "ipython",
        "version": 3
      },
      "file_extension": ".py",
      "mimetype": "text/x-python",
      "name": "python",
      "nbconvert_exporter": "python",
      "pygments_lexer": "ipython3",
      "version": "3.10.12"
    }
  },
  "nbformat": 4,
  "nbformat_minor": 0
}
